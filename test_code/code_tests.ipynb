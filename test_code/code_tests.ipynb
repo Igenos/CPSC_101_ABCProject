{
 "cells": [
  {
   "cell_type": "code",
   "execution_count": null,
   "metadata": {},
   "outputs": [],
   "source": [
    "from abc import ABC, abstractmethod\n",
    "\n",
    "class Animal(ABC):\n",
    "    \"\"\"Must iclude the properties ( name, food_type )\"\"\"\n",
    "\n",
    "    @property\n",
    "    @abstractmethod\n",
    "    def name(self):\n",
    "        pass  # Abstract property, must be implemented by subclasses\n",
    "\n",
    "    @property\n",
    "    @abstractmethod\n",
    "    def food_type(self):\n",
    "        pass  # Abstract property, must be implemented by subclasses\n",
    "\n",
    "    @abstractmethod\n",
    "    def __feed__(self, daily_feedings: int = 3) -> str:\n",
    "        return(f\"{self.name} must be fed {self.food}\")\n",
    "\n",
    "class dog(Animal):\n",
    "    \n",
    "    def __init__(self, name: str, food_type: str) -> object:\n",
    "        self.name: str = name\n",
    "        self.food_type: str = food_type\n",
    "\n",
    "    @property\n",
    "    def name(self):\n",
    "        return self.name()\n",
    "\n",
    "    @property\n",
    "    def food_type(self):\n",
    "        return self.food_type\n",
    "\n",
    "if __name__ == '__main__':\n",
    "    dogs: list = dog([[\"Alice\" , \"meat\"], [\"Max\" , \"Vegetarin\"]])\n",
    "\n",
    "    print(dogs)\n",
    "\n"
   ]
  }
 ],
 "metadata": {
  "kernelspec": {
   "display_name": "base",
   "language": "python",
   "name": "python3"
  },
  "language_info": {
   "name": "python",
   "version": "3.12.7"
  }
 },
 "nbformat": 4,
 "nbformat_minor": 2
}
