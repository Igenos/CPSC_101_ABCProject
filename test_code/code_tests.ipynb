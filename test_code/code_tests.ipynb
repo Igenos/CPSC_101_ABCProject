{
 "cells": [
  {
   "cell_type": "code",
   "execution_count": null,
   "metadata": {},
   "outputs": [],
   "source": [
    "from abc import ABC, abstractmethod\n",
    "from animalABC import Animal"
   ]
  },
  {
   "cell_type": "code",
   "execution_count": null,
   "metadata": {},
   "outputs": [
    {
     "name": "stdout",
     "output_type": "stream",
     "text": [
      "Alice must be fed meat .\n",
      "Max must be fed vegetarian feed .\n",
      "Charlie must be fed double meat portions .\n",
      "Nicole must be fed guten free feed .\n",
      "Fed Alice a meat meal.\n",
      "Fed Max a vegetarian feed meal.\n",
      "Fed Charlie a double meat portions meal.\n",
      "Fed Nicole a guten free feed meal.\n"
     ]
    }
   ],
   "source": [
    "class dog(Animal):\n",
    "    \n",
    "    def eat(self) -> str:\n",
    "        return f\"Fed {self.name} a {self.food_type} meal.\"\n",
    "\n",
    "    def __init__(self, name: str, food_type: str) -> object:\n",
    "        self.name: str = name\n",
    "        self.food_type: str = food_type\n",
    "\n",
    "if __name__ == '__main__':\n",
    "    \n",
    "    # Setup our list of dogs using subclass __init__.\n",
    "    dogs: list[dog] = [\n",
    "        dog(\"Alice\", \"meat\") , \n",
    "        dog(\"Max\", \"vegetarian feed\") , \n",
    "        dog(\"Charlie\", \"double meat portions\") , \n",
    "        dog(\"Nicole\", \"guten free feed\")]\n",
    "\n",
    "    # Use adstract base method to feed the dogs.from animalABC import Animal\n",
    "    for dog in dogs:\n",
    "        print(dog.__feed__())\n",
    "\n",
    "    for dog in dogs:\n",
    "        print(dog.eat())"
   ]
  },
  {
   "cell_type": "code",
   "execution_count": null,
   "metadata": {},
   "outputs": [],
   "source": []
  }
 ],
 "metadata": {
  "kernelspec": {
   "display_name": "Python 3",
   "language": "python",
   "name": "python3"
  },
  "language_info": {
   "codemirror_mode": {
    "name": "ipython",
    "version": 3
   },
   "file_extension": ".py",
   "mimetype": "text/x-python",
   "name": "python",
   "nbconvert_exporter": "python",
   "pygments_lexer": "ipython3",
   "version": "3.13.2"
  }
 },
 "nbformat": 4,
 "nbformat_minor": 2
}
