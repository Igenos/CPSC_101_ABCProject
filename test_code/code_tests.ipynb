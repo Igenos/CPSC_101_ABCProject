{
 "cells": [
  {
   "cell_type": "code",
   "execution_count": 11,
   "metadata": {},
   "outputs": [],
   "source": [
    "from abc import ABC, abstractmethod\n",
    "from animalABC import Animal"
   ]
  },
  {
   "cell_type": "code",
   "execution_count": null,
   "metadata": {},
   "outputs": [
    {
     "name": "stdout",
     "output_type": "stream",
     "text": [
      "{'_name': 'Alice', '_food_type': 'meat'}\n",
      "{'_name': 'Max', '_food_type': 'vegetarian feed'}\n",
      "{'_name': 'Charlie', '_food_type': 'double meat portions'}\n",
      "{'_name': 'Nicole', '_food_type': 'guten free feed'}\n",
      "Fed Alice a meat meal.\n",
      "Fed Max a vegetarian feed meal.\n",
      "Fed Charlie a double meat portions meal.\n",
      "Fed Nicole a guten free feed meal.\n"
     ]
    }
   ],
   "source": [
    "class dog(Animal):\n",
    "\n",
    "    def __init__(self, name: str, food_type: str) -> object:\n",
    "        self._name: str = name\n",
    "        self._food_type: str = food_type\n",
    "\n",
    "    @property\n",
    "    def name(self) -> str:\n",
    "        return self._name\n",
    "\n",
    "    @property\n",
    "    def food_type(self) -> str:\n",
    "        return self._food_type\n",
    "\n",
    "    def eat(self) -> str:\n",
    "        return f\"Fed {self.name} a {self.food_type} meal.\"\n",
    "\n",
    "if __name__ == '__main__':\n",
    "    \n",
    "    # Setup our list of dogs using class dog __init__.\n",
    "    dogs: list[dog] = [\n",
    "        dog(\"Alice\", \"meat\") , \n",
    "        dog(\"Max\", \"vegetarian feed\") , \n",
    "        dog(\"Charlie\", \"double meat portions\") , \n",
    "        dog(\"Nicole\", \"guten free feed\")]\n",
    "\n",
    "    # Use adstract base method to feed the dogs from animalABC import Animal\n",
    "    for dog in dogs:\n",
    "        print(dog.__dict__)\n",
    "\n",
    "    for dog in dogs:\n",
    "        print(dog.eat())"
   ]
  },
  {
   "cell_type": "code",
   "execution_count": null,
   "metadata": {},
   "outputs": [
    {
     "name": "stdout",
     "output_type": "stream",
     "text": [
      "meat\n",
      "vegetarian feed\n",
      "double meat portions\n",
      "guten free feed\n",
      "<class 'str'>\n"
     ]
    }
   ],
   "source": [
    "for dog in dogs:\n",
    "    print(dog.food_type)\n",
    "\n",
    "print(type(dogs[0].food_type))\n"
   ]
  },
  {
   "cell_type": "code",
   "execution_count": null,
   "metadata": {},
   "outputs": [],
   "source": [
    "for dog in dogs:\n",
    "    print(dog.__dict__)"
   ]
  }
 ],
 "metadata": {
  "kernelspec": {
   "display_name": "Python 3",
   "language": "python",
   "name": "python3"
  },
  "language_info": {
   "codemirror_mode": {
    "name": "ipython",
    "version": 3
   },
   "file_extension": ".py",
   "mimetype": "text/x-python",
   "name": "python",
   "nbconvert_exporter": "python",
   "pygments_lexer": "ipython3",
   "version": "3.13.2"
  }
 },
 "nbformat": 4,
 "nbformat_minor": 2
}
